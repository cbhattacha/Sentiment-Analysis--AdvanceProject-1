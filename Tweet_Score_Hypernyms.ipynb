{
 "cells": [
  {
   "cell_type": "code",
   "execution_count": 1,
   "metadata": {},
   "outputs": [],
   "source": [
    "# @Author : Ottoniel Campos and Chhandosee Bhattacharya\n",
    "\n",
    "# We add all the imports\n",
    "import json # Import json to handle json files.\n",
    "from nltk.corpus import wordnet  #Import wordnet from the NLTK\n",
    "from nltk.corpus import sentiwordnet as swn # We import sentiwordnet"
   ]
  },
  {
   "cell_type": "code",
   "execution_count": 2,
   "metadata": {},
   "outputs": [],
   "source": [
    "import emoji\n",
    "import nltk\n",
    "from nltk.tokenize import word_tokenize\n",
    "from nltk.corpus import stopwords\n",
    "from nltk.stem.porter import PorterStemmer\n",
    "from itertools import groupby\n",
    "from tokenize_clean_text import clean_text\n",
    "import re"
   ]
  },
  {
   "cell_type": "code",
   "execution_count": 3,
   "metadata": {},
   "outputs": [],
   "source": [
    "def get_hypernyms(tweet):\n",
    "\n",
    "    new_tweet = tweet\n",
    "\n",
    "    # We create a counter to iterate through each word\n",
    "    counter = 0\n",
    "    # Now we iterate through each word to get the\n",
    "    for w in tweet:\n",
    "        synset = wordnet.synsets(w)\n",
    "\n",
    "        # We check the length of the synset; we continue only if we get a response from wordnet.synsets\n",
    "        if len(synset) > 0:\n",
    "            # We get the hypernym\n",
    "            hyper = synset[0].hypernyms()\n",
    "            # If we get a result\n",
    "            if len(hyper) > 0:\n",
    "                first_lemma = hyper[0]\n",
    "                lemmas = first_lemma.lemma_names()\n",
    "                new_tweet[counter] = lemmas[0]\n",
    "\n",
    "        # We increase the counter\n",
    "        counter += 1\n",
    "\n",
    "    return new_tweet"
   ]
  },
  {
   "cell_type": "code",
   "execution_count": 4,
   "metadata": {},
   "outputs": [],
   "source": [
    "def get_tweet_score(s):\n",
    "    # We split the tweet by spaces to get each individual word.\n",
    "    split_text_o = s.split()\n",
    "    split_text_uniq = set(split_text_o)\n",
    "    split_text = list(split_text_uniq)\n",
    "\n",
    "    # We start by assigning 0 to the sentiment_score, this sentiment_score will consist of the sum of all\n",
    "    # sentiment scores for each individual word.\n",
    "    sentiment_score = 0  # sentiment_score\n",
    "\n",
    "    # Here we specify the denominator that we will use to get the average\n",
    "    # We will only take into account the words that have a score in wordnet.synsets\n",
    "    syn_denominator = 0\n",
    "    # We specify the overall score\n",
    "    overall_score = 0\n",
    "\n",
    "    # Now we replace each for in the tweet for its hypernym\n",
    "    split_text = get_hypernyms(split_text)\n",
    "\n",
    "    # Now we iterate through each word to get the\n",
    "    for w in split_text:\n",
    "        synset = wordnet.synsets(w)\n",
    "        # We check the length of the synset; we continue only if we get a response from wordnet.synsets\n",
    "        if len(synset) > 0:\n",
    "            # synset[0].name() contains the id that we will use to reference the word later in senti_synset\n",
    "            # We assign this value to the variable name\n",
    "            name = synset[0].name()\n",
    "            # Below we get the positive and negative scores for the word using its name as id\n",
    "            breakdown = swn.senti_synset(name)\n",
    "            # We get the negative and positive scores\n",
    "            pos_score = breakdown.pos_score()\n",
    "            neg_score = breakdown.neg_score()\n",
    "\n",
    "            # Then we calculate the sentiment_score for this word and add it up to the scores of the previous words.\n",
    "            sentiment_score += pos_score - neg_score  # The sentiment_score of all words in the tweet.\n",
    "\n",
    "            # We increase the syn_denominator count + 1\n",
    "            syn_denominator += 1\n",
    "    # Now we will calculate the average using syn_denominator as denominator\n",
    "    if syn_denominator != 0:\n",
    "        # Now we calculate the average and assign it to the overall_score\n",
    "        # The overall_score will be the mean of each score\n",
    "        overall_score = sentiment_score / syn_denominator\n",
    "\n",
    "    # We return the tweet's overall_score.\n",
    "    return overall_score, split_text"
   ]
  },
  {
   "cell_type": "code",
   "execution_count": 9,
   "metadata": {},
   "outputs": [],
   "source": [
    "# Next we iterate through all the files and assign a score\n",
    "def assign_scores(files_list):\n",
    "    neg=0\n",
    "    pos=0\n",
    "    neu=0\n",
    "    for file in files_list:\n",
    "        # All files are txt files.\n",
    "        #f = open('Datasets/' + file + '.txt')\n",
    "        f = open(file + '.txt')\n",
    "        # We read the lines of the txt file.\n",
    "        lines = f.readlines()\n",
    "\n",
    "        # We create the sentences dictionary. This will contain an array of sentences which each element will contain the\n",
    "        # text and an overall score for the whole sentence.\n",
    "        sentences = []\n",
    "\n",
    "        # Counter for each sentence in the corpus, this is for later comparison with the file where we extracted the data.\n",
    "        count = 0\n",
    "\n",
    "        # For each line in the file we will proceed to\n",
    "        for line in lines:\n",
    "            # Data Extraction\n",
    "            # We parse each fine of the file.\n",
    "            parsed_json = (json.loads(line))\n",
    "\n",
    "            # Discriminate to only take english sentences\n",
    "            if parsed_json['lang'] == 'en':\n",
    "                # We extract the text from the parsed line\n",
    "                text = parsed_json['text']\n",
    "\n",
    "                # Now we proceed to clean the text\n",
    "                cleaned_set = clean_text(text)\n",
    "                after_clean_text = \" \".join(cleaned_set)\n",
    "\n",
    "                # Now we iterate and we take the hypernyms of each word\n",
    "                # We get the score for each sentence\n",
    "                score, hypernyms = get_tweet_score(after_clean_text)\n",
    "                if score > 0:\n",
    "                    neg+=1\n",
    "                elif score == 0:\n",
    "                    neu+=1\n",
    "                else:\n",
    "                    pos+=1\n",
    "                # Dictionary creation\n",
    "                # We create a dictionary for the sentence\n",
    "                sentences.append({\n",
    "                    'text': text,\n",
    "                    'after_clean_text': after_clean_text,\n",
    "                    'hypernyms': hypernyms,\n",
    "                    'score': score\n",
    "                })\n",
    "\n",
    "            # We increase the counter\n",
    "            count += 1\n",
    "\n",
    "        # We create a new file for each hash tag file that we consulted.\n",
    "        with open(file + '_final_' + '.json', 'w') as outfile:\n",
    "            # We finally dump the tweets + the overall_score in a json file.\n",
    "            json.dump(sentences, outfile, indent=2)\n",
    "\n",
    "        # End of the program's execution\n",
    "        print(\"Total lines = \" + str(count) + \" we're processed.\")\n",
    "        print(\"Score assignation has finished successfully!\")\n",
    "        \n",
    "        #Plot the number of positive,negative and neutral scores\n",
    "        import matplotlib.pyplot as plt\n",
    "        x_cord=[2,4,6]\n",
    "        y_cord=[neg,neu,pos]\n",
    "        tick_label=['Negative','Neutral','Positive']\n",
    "        plt.bar(x_cord, y_cord, tick_label = tick_label, \n",
    "        width = 0.8, color = ['blue','orange', 'green']) \n",
    "        # naming the x-axis \n",
    "        plt.xlabel('Polarity') \n",
    "        # naming the y-axis \n",
    "        plt.ylabel('Count') \n",
    "        # plot title \n",
    "        plt.title('Representation of various Sentiments') \n",
    "  \n",
    "        # function to show the plot \n",
    "        plt.show() \n",
    "        \n",
    "        #Plot the dimensionality reduction\n",
    "        import matplotlib.pyplot as plt\n",
    "        x_cord = [3,6,9]\n",
    "        y_cord = [len(text),len(after_clean_text),len(hypernyms)]\n",
    "        tick_label=['Original Text','Data Cleaning','Hypernyms']\n",
    "        plt.bar(x_cord, y_cord, tick_label = tick_label, \n",
    "        width = 0.8, color = ['blue','orange', 'green']) \n",
    "        # naming the x-axis \n",
    "        plt.xlabel('x-axis ') \n",
    "        # naming the y-axis \n",
    "        plt.ylabel('Dimensionality') \n",
    "        # plot title \n",
    "        plt.title('Change in Dimensionality with Functions') \n",
    "  \n",
    "        # function to show the plot \n",
    "        plt.show() "
   ]
  },
  {
   "cell_type": "code",
   "execution_count": 10,
   "metadata": {},
   "outputs": [
    {
     "name": "stdout",
     "output_type": "stream",
     "text": [
      "Total lines = 7385 we're processed.\n",
      "Score assignation has finished successfully!\n"
     ]
    },
    {
     "data": {
      "image/png": "[encoded data removed]",
      "text/plain": [
       "<Figure size 432x288 with 1 Axes>"
      ]
     },
     "metadata": {
      "needs_background": "light"
     },
     "output_type": "display_data"
    },
    {
     "data": {
      "image/png": "[encoded data removed]",
      "text/plain": [
       "<Figure size 432x288 with 1 Axes>"
      ]
     },
     "metadata": {
      "needs_background": "light"
     },
     "output_type": "display_data"
    }
   ],
   "source": [
    "#files_list = ['tweets_fridaysforfuture_09-03-2020_test', 'tweets_climatechange_06-03-2020_test', 'tweets_savetheplanet_09-03-2020_test']\n",
    "files_list = ['tweets_savetheplanet_09-03-2020']\n",
    "assign_scores(files_list)\n",
    "\n",
    "# We load the url of the first file.\n",
    "url = files_list[0] + '_final_' + \".json\"\n",
    "\n",
    "# We will open the file\n",
    "with open(url, 'r') as json_file:\n",
    "    data = json_file.read()\n",
    "\n",
    "# Now we parse the file\n",
    "parsed = json.loads(data)\n",
    "\n",
    "# Pretty Printing JSON string back"
   ]
  },
  {
   "cell_type": "code",
   "execution_count": 11,
   "metadata": {},
   "outputs": [
    {
     "name": "stdout",
     "output_type": "stream",
     "text": [
      "Total lines = 7385 we're processed.\n",
      "Score assignation has finished successfully!\n"
     ]
    },
    {
     "data": {
      "image/png": "[encoded data removed]",
      "text/plain": [
       "<Figure size 432x288 with 1 Axes>"
      ]
     },
     "metadata": {
      "needs_background": "light"
     },
     "output_type": "display_data"
    },
    {
     "data": {
      "image/png": "[encoded data removed]",
      "text/plain": [
       "<Figure size 432x288 with 1 Axes>"
      ]
     },
     "metadata": {
      "needs_background": "light"
     },
     "output_type": "display_data"
    }
   ],
   "source": [
    "new_files_list = ['tweets_savetheplanet_09-03-2020']\n",
    "assign_scores(new_files_list)"
   ]
  },
  {
   "cell_type": "code",
   "execution_count": 12,
   "metadata": {},
   "outputs": [
    {
     "name": "stdout",
     "output_type": "stream",
     "text": [
      "{'text': 'RT @FreddyBeltranP: Good Night 🌙\\n         Twitter Planet 🌐\\n\\n#Uyuni #Potosi #OurPlanet #Photography\\n#EnssaysDiseings 🐳 #DiscoverAdventure \\n#…', 'after_clean_text': 'good night crescent moon twitter planet globe meridians spouting whale', 'hypernyms': ['globe', 'time_period', 'moon', 'degree', 'sound', 'large_person', 'advantage', 'pour', 'celestial_body', 'curve'], 'score': 0.025}\n",
      "\n",
      "{'text': '@priyamenon96 Great interview, though I do disagree with the use of palm oil as a primary feedstock for biodiesel.… https://t.co/iCXmk6tbDI', 'after_clean_text': 'great interview though disagree use palm oil primary feedstock biodiesel', 'hypernyms': ['lipid', 'activity', 'area', 'biodiesel', 'though', 'disagree', 'election', 'raw_material', 'achiever', 'interrogation'], 'score': 0.05555555555555555}\n",
      "\n",
      "{'text': 'RT @QUBEcc: Do you spend half of your day travelling for work?\\nHave you worked out how much time and money are lost on your #commute?\\nThere…', 'after_clean_text': 'spend half day travelling work worked much time money lost', 'hypernyms': ['common_fraction', 'spend', 'motion', 'worked', 'people', 'activity', 'medium_of_exchange', 'time_unit', 'large_indefinite_quantity', 'case'], 'score': -0.025}\n",
      "\n",
      "{'text': '#RECYCLING TIP OF THE DAY | Be more eco-friendly - replace your liquid hand wash for soap packed in cardboard 💚… https://t.co/IYjJdkPxlR', 'after_clean_text': 'replace liquid hand wash soap packed cardboard green heart', 'hypernyms': ['packing_material', 'extremity', 'cleansing_agent', 'intuition', 'water-base_paint', 'fluid', 'encase', 'chromatic_color', 'regenerate'], 'score': -0.027777777777777776}\n",
      "\n"
     ]
    }
   ],
   "source": [
    "# We load the url of the first file.\n",
    "url = new_files_list[0] + \"_final_\" + \".json\"\n",
    "\n",
    "# JSON file\n",
    "f = open (url, \"r\")\n",
    "\n",
    "# Reading from file\n",
    "data = json.loads(f.read())\n",
    "\n",
    "for i in range(4):\n",
    "\tprint(str(data[i])+\"\\n\")"
   ]
  },
  {
   "cell_type": "code",
   "execution_count": null,
   "metadata": {},
   "outputs": [],
   "source": []
  }
 ],
 "metadata": {
  "kernelspec": {
   "display_name": "Python 3",
   "language": "python",
   "name": "python3"
  },
  "language_info": {
   "codemirror_mode": {
    "name": "ipython",
    "version": 3
   },
   "file_extension": ".py",
   "mimetype": "text/x-python",
   "name": "python",
   "nbconvert_exporter": "python",
   "pygments_lexer": "ipython3",
   "version": "3.7.6"
  }
 },
 "nbformat": 4,
 "nbformat_minor": 2
}
